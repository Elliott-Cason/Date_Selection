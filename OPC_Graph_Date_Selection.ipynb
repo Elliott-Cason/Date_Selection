{
  "nbformat": 4,
  "nbformat_minor": 0,
  "metadata": {
    "colab": {
      "name": "OPC Graph Date Selection.ipynb",
      "provenance": []
    },
    "kernelspec": {
      "name": "python3",
      "display_name": "Python 3"
    },
    "language_info": {
      "name": "python"
    }
  },
  "cells": [
    {
      "cell_type": "markdown",
      "source": [
        "\n",
        "\n",
        "## **OPC Date Selection**"
      ],
      "metadata": {
        "id": "MlSPMypjVjWY"
      }
    },
    {
      "cell_type": "markdown",
      "source": [
        "*1. Select information from SQL server*\n",
        "\n",
        "*2. Download CSV data from SQL server*\n",
        "\n",
        "*3. Upload CSV data here*\n",
        "\n"
      ],
      "metadata": {
        "id": "l7yhQMeo00Zz"
      }
    },
    {
      "cell_type": "markdown",
      "source": [
        "*- Press ctrl+f9 to rull all data. Make sure that current team and file name is accurate -*"
      ],
      "metadata": {
        "id": "ZhMJwiD_aeBC"
      }
    },
    {
      "cell_type": "markdown",
      "source": [
        "**List of current team members**"
      ],
      "metadata": {
        "id": "T2QGzAtw6PyU"
      }
    },
    {
      "cell_type": "code",
      "source": [
        "current_team = ['Lara Crisp', 'Shianne Elliott', 'Conan Cecconie', 'Jonathan Reale', 'Jacob Friedman', 'Taylor Keyes', 'Beau Thomas']"
      ],
      "metadata": {
        "id": "9cvt992ofLCf"
      },
      "execution_count": null,
      "outputs": []
    },
    {
      "cell_type": "markdown",
      "source": [
        "**The name of the uploaded file should EXACTLY match the one below**"
      ],
      "metadata": {
        "id": "WMZxIDE16crz"
      }
    },
    {
      "cell_type": "code",
      "source": [
        "file_name = 'Program Ledger By Personnel.csv'"
      ],
      "metadata": {
        "id": "09S519iTbIYh"
      },
      "execution_count": null,
      "outputs": []
    },
    {
      "cell_type": "markdown",
      "source": [
        "**The following cell will ask you for a start date and end date**"
      ],
      "metadata": {
        "id": "Tb8VLhJjamVA"
      }
    },
    {
      "cell_type": "code",
      "source": [
        "#@title\n",
        "import pandas as pd\n",
        "import numpy as np\n",
        "import datetime\n",
        "import matplotlib.pyplot as plt\n",
        "\n",
        "BGV = pd.read_csv(file_name)\n",
        "BGV['TourDate1'] = pd.to_datetime(BGV['TourDate1'])\n",
        "BGV.drop_duplicates(subset=['PersonnelNameTitle', 'TourID2'], inplace=True)\n",
        "\n",
        "print('Please choose a start date (yyyy-mm-dd)')\n",
        "valid=False\n",
        "while valid == False:\n",
        "  start_date = input('Start Date: ')\n",
        "  if str(start_date) in np.sort(BGV['TourDate1'].astype(str).unique()):\n",
        "    print('Success!')\n",
        "    valid=True\n",
        "  else:\n",
        "    print('Error: This was either typed incorrectly or the date is not in the uploaded file')\n",
        "\n",
        "print('Please choose an end date (yyyy-mm-dd)')\n",
        "valid=False\n",
        "while valid == False:\n",
        "  end_date = input('End Date: ')\n",
        "  if str(end_date) in np.sort(BGV['TourDate1'].astype(str).unique()):\n",
        "    print('Success!')\n",
        "    valid=True\n",
        "  else:\n",
        "    print('Error: This was either typed incorrectly or the date is not in the uploaded file')\n",
        "\n",
        "BGV = BGV.loc[(BGV['TourDate1'] >= start_date) & (BGV['TourDate1'] <= end_date)]\n",
        "\n",
        "opc_team = pd.DataFrame()\n",
        "for individual in range(len(current_team)):\n",
        "  opc_team = opc_team.append(BGV.loc[BGV['PersonnelNameTitle'] == str(current_team[individual])+': Tour Booker'])\n",
        "\n",
        "BGV = BGV.sort_values('TourDate1')\n",
        "daterange = pd.date_range(start = start_date, end = end_date, freq='d')\n",
        "\n",
        "opc_team_showed = opc_team.loc[opc_team['TourStatus2'] == 'Showed']"
      ],
      "metadata": {
        "id": "wxr7HuiYddJ5",
        "cellView": "form"
      },
      "execution_count": null,
      "outputs": []
    },
    {
      "cell_type": "markdown",
      "source": [
        "**Tour Counts and 7 Day Average**"
      ],
      "metadata": {
        "id": "cZq6WPbGi_OX"
      }
    },
    {
      "cell_type": "code",
      "source": [
        "#@title\n",
        "from matplotlib.ticker import MaxNLocator\n",
        "\n",
        "for individual in range(len(current_team)):\n",
        "  name = current_team[individual]\n",
        "  if name+': Tour Booker' in opc_team['PersonnelNameTitle'].unique():\n",
        "    fig, ax = plt.subplots(figsize=(15,4))\n",
        "    \n",
        "    individual_showed = opc_team_showed.loc[opc_team_showed['PersonnelNameTitle'] == name+': Tour Booker']\n",
        "\n",
        "    individual_daterange = pd.DataFrame(index=daterange)\n",
        "    individual_daterange['Tour Count'] = individual_showed['TourDate1'].value_counts()\n",
        "    individual_daterange['Tour Count'] = individual_daterange['Tour Count'].fillna(0)\n",
        "    individual_daterange['Tour Date'] = individual_daterange.index.strftime('%Y-%m-%d')\n",
        "    individual_daterange['Average'] = individual_daterange['Tour Count'].rolling(7).mean()\n",
        "\n",
        "    individual_daterange.plot('Tour Date', 'Tour Count', kind='bar', color='lightskyblue', alpha=0.75, ax=ax, zorder=3)\n",
        "    individual_daterange.plot('Tour Date', 'Average', linewidth=3, color='#1f77b4', ax=ax, zorder=5).grid(axis='y', zorder=0, alpha=0.5)\n",
        "\n",
        "    count = individual_daterange['Tour Count'].sum().astype(int)\n",
        "    average = individual_daterange['Tour Count'].fillna(0).mean()\n",
        "    plt.axhline(y=average, color='lightcoral', zorder=4)\n",
        "    ax.yaxis.set_major_locator(MaxNLocator(integer=True))\n",
        "\n",
        "    # Format x-axis based on length of date range\n",
        "    if len(daterange) >= 182:\n",
        "      [l.set_visible(False) for (i,l) in enumerate(ax.xaxis.get_ticklabels()) if i % 7 != 0]\n",
        "    elif len(daterange) >= 62:\n",
        "      [l.set_visible(False) for (i,l) in enumerate(ax.xaxis.get_ticklabels()) if i % 4 != 0]\n",
        "    elif len(daterange) >= 31:\n",
        "      [l.set_visible(False) for (i,l) in enumerate(ax.xaxis.get_ticklabels()) if i % 2 != 0]\n",
        "\n",
        "\n",
        "    plt.xlabel('')\n",
        "    plt.xticks(rotation=90)\n",
        "    plt.title('   '+str(name)+' (Total: '+str(count)+')', weight='bold', loc='left', fontsize=12)\n",
        "    plt.title('Tour Count Average from '+str(start_date)+' to '+str(end_date)+'   ', loc='right', fontsize=12)\n",
        "    plt.legend(['7 Day Average', 'Overall Average: '+str(round(average,2)), 'Daily Tour Count'])\n",
        "  else:\n",
        "    print('Cannot find data for ' + name)"
      ],
      "metadata": {
        "id": "YwcITCWzGS4E",
        "cellView": "form"
      },
      "execution_count": null,
      "outputs": []
    },
    {
      "cell_type": "code",
      "source": [
        "#@title\n",
        "from matplotlib.ticker import MaxNLocator\n",
        "\n",
        "for individual in range(len(current_team)):\n",
        "  name = current_team[individual]\n",
        "  if name+': Tour Booker' in opc_team['PersonnelNameTitle'].unique():\n",
        "    fig, ax = plt.subplots(figsize=(15,4))\n",
        "    \n",
        "    individual_showed = opc_team_showed.loc[opc_team_showed['PersonnelNameTitle'] == name+': Tour Booker']\n",
        "\n",
        "    df1 = individual_showed.loc[(individual_showed['ContractStatus1'] != 'Active\\r\\nActive') & (individual_showed['ContractStatus1'] != 'Suspense\\r\\nSuspense')]\n",
        "\n",
        "    df2 = individual_showed.loc[individual_showed['CommissionVolume'] > 0]\n",
        "    df2 = df2.loc[(df2['ContractStatus1'] == 'Active\\r\\nActive') | (df2['ContractStatus1'] == 'Suspense\\r\\nSuspense')]\n",
        "\n",
        "    individual_daterange = pd.DataFrame(index=daterange)\n",
        "    individual_daterange['Tour Count'] = individual_showed['TourDate1'].value_counts()\n",
        "    individual_daterange['Tour Count'] = individual_daterange['Tour Count'].fillna(0)\n",
        "    individual_daterange['Tour Date'] = individual_daterange.index.strftime('%Y-%m-%d')\n",
        "    individual_daterange['Average'] = individual_daterange['Tour Count'].rolling(7).mean()\n",
        "\n",
        "    individual_daterange['Purchase Count'] = df2['TourDate1'].value_counts()\n",
        "    individual_daterange['Shown Count'] = df1['TourDate1'].value_counts()\n",
        "    individual_daterange['Purchase Count'] = individual_daterange['Purchase Count'].fillna(0)\n",
        "    individual_daterange['Shown Count'] = individual_daterange['Shown Count'].fillna(0)\n",
        "\n",
        "    individual_daterange.plot('Tour Date', 'Tour Count', kind='bar', color='lightskyblue', alpha=0.75, ax=ax, zorder=3)\n",
        "    individual_daterange.plot('Tour Date', 'Purchase Count', kind='bar', color='forestgreen', ax=ax, alpha=0.5, zorder=5)\n",
        "    individual_daterange.plot('Tour Date', 'Average', linewidth=3, color='#1f77b4', ax=ax, zorder=6).grid(axis='y', zorder=0, alpha=0.5)\n",
        "\n",
        "    count = individual_daterange['Tour Count'].sum().astype(int)\n",
        "    average = individual_daterange['Tour Count'].fillna(0).mean()\n",
        "    plt.axhline(y=average, color='lightcoral', zorder=4)\n",
        "    ax.yaxis.set_major_locator(MaxNLocator(integer=True))\n",
        "\n",
        "    # Format x-axis based on length of date range\n",
        "    if len(daterange) >= 182:\n",
        "      [l.set_visible(False) for (i,l) in enumerate(ax.xaxis.get_ticklabels()) if i % 7 != 0]\n",
        "    elif len(daterange) >= 62:\n",
        "      [l.set_visible(False) for (i,l) in enumerate(ax.xaxis.get_ticklabels()) if i % 4 != 0]\n",
        "    elif len(daterange) >= 31:\n",
        "      [l.set_visible(False) for (i,l) in enumerate(ax.xaxis.get_ticklabels()) if i % 2 != 0]\n",
        "\n",
        "\n",
        "    plt.xlabel('')\n",
        "    plt.xticks(rotation=90)\n",
        "    plt.title('   '+str(name)+' (Total: '+str(count)+')', weight='bold', loc='left', fontsize=12)\n",
        "    plt.title('Tour Count Average from '+str(start_date)+' to '+str(end_date)+'   ', loc='right', fontsize=12)\n",
        "    plt.legend(['7 Day Average', 'Overall Average: '+str(round(average,2))])\n",
        "  else:\n",
        "    print('Cannot find data for ' + name)"
      ],
      "metadata": {
        "id": "7f2HMzWTw7Ed",
        "cellView": "form"
      },
      "execution_count": null,
      "outputs": []
    }
  ]
}